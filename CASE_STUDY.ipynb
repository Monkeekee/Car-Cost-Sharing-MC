{
 "cells": [
  {
   "attachments": {},
   "cell_type": "markdown",
   "metadata": {},
   "source": [
    "# Partage de cout sur un trajet avec des passagers\n",
    "Rentrer manuellement des personnes, leur destination, la distance relative à leur destination, et évaluer des allocations de partage pour ce trajet.\n",
    "\n",
    "## Todo\n",
    "Application django ou web avec des champs à remplir"
   ]
  },
  {
   "cell_type": "code",
   "execution_count": 9,
   "metadata": {},
   "outputs": [
    {
     "name": "stdout",
     "output_type": "stream",
     "text": [
      "Requirement already satisfied: sympy in /Library/Frameworks/Python.framework/Versions/3.11/lib/python3.11/site-packages (1.11.1)\n",
      "Requirement already satisfied: mpmath>=0.19 in /Library/Frameworks/Python.framework/Versions/3.11/lib/python3.11/site-packages (from sympy) (1.2.1)\n"
     ]
    }
   ],
   "source": [
    "#acquerir la bibliothèque sympy pour le calcul simplifié des equations mathématiques\n",
    "!pip3 install sympy\n",
    "#commande alternative\n",
    "#!pip install --user sympy"
   ]
  },
  {
   "cell_type": "code",
   "execution_count": 6,
   "metadata": {},
   "outputs": [],
   "source": [
    "from TP_CASE_STUDY_3_v3 import definition_du_pbm, resolution_du_pbm"
   ]
  },
  {
   "cell_type": "code",
   "execution_count": 7,
   "metadata": {},
   "outputs": [
    {
     "name": "stdout",
     "output_type": "stream",
     "text": [
      "--------------------------------\n",
      "Spécifiez maintenant les voyageurs, leur destination et leur distance au départ.\n",
      "--------------------------------\n",
      "--------------------------------\n",
      "le cout total est de :  45.0\n",
      "La liste des coûts si seuls :\n",
      "\tttt irait a tville pour 5.0\n",
      "\tf irait a ggg pour 45.0\n",
      "--------------------------------\n",
      "Méthodes par Proportionnalité :\n",
      "\tLe trajet de ttt lui revient à 4.5 pour aller jusqu'à tville\n",
      "\tLe trajet de f lui revient à 40.5 pour aller jusqu'à ggg\n",
      "--------------------------------\n",
      "Méthodes par Séparabilité :\n",
      "\tLe trajet de ttt lui revient à 2.5 pour aller jusqu'à tville\n",
      "\tLe trajet de f lui revient à 42.5 pour aller jusqu'à ggg\n",
      "--------------------------------\n"
     ]
    }
   ],
   "source": [
    "taille,prixkm,List,Dist = definition_du_pbm()\n",
    "resolution_du_pbm(taille,prixkm,List,Dist)"
   ]
  }
 ],
 "metadata": {
  "kernelspec": {
   "display_name": "Python 3",
   "language": "python",
   "name": "python3"
  },
  "language_info": {
   "codemirror_mode": {
    "name": "ipython",
    "version": 3
   },
   "file_extension": ".py",
   "mimetype": "text/x-python",
   "name": "python",
   "nbconvert_exporter": "python",
   "pygments_lexer": "ipython3",
   "version": "3.11.1"
  },
  "orig_nbformat": 4,
  "vscode": {
   "interpreter": {
    "hash": "aee8b7b246df8f9039afb4144a1f6fd8d2ca17a180786b69acc140d282b71a49"
   }
  }
 },
 "nbformat": 4,
 "nbformat_minor": 2
}
